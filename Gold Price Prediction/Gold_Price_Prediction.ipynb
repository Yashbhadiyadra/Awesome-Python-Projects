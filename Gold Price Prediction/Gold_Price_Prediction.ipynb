{
 "cells": [
  {
   "cell_type": "markdown",
   "id": "bf47b7ff",
   "metadata": {},
   "source": [
    "# Gold Price Prediction\n",
    "\n",
    "## Author - Yash Bhadiyadra"
   ]
  },
  {
   "cell_type": "markdown",
   "id": "8d6de19a",
   "metadata": {},
   "source": [
    "**Importing required libraries**"
   ]
  },
  {
   "cell_type": "code",
   "execution_count": 1,
   "id": "7896fcd3",
   "metadata": {},
   "outputs": [],
   "source": [
    "import pandas as pd\n",
    "import numpy as np\n",
    "import matplotlib.pyplot as plt\n",
    "import seaborn as sns\n",
    "from sklearn.model_selection import train_test_split\n",
    "from sklearn.ensemble import RandomForestRegressor"
   ]
  },
  {
   "cell_type": "markdown",
   "id": "3e073cc4",
   "metadata": {},
   "source": [
    "**Explore the dataset**"
   ]
  },
  {
   "cell_type": "code",
   "execution_count": 2,
   "id": "5363f650",
   "metadata": {},
   "outputs": [],
   "source": [
    "dataset = pd.read_csv(\"gold_price_data.csv\") "
   ]
  },
  {
   "cell_type": "code",
   "execution_count": 3,
   "id": "d4fac449",
   "metadata": {},
   "outputs": [
    {
     "data": {
      "text/html": [
       "<div>\n",
       "<style scoped>\n",
       "    .dataframe tbody tr th:only-of-type {\n",
       "        vertical-align: middle;\n",
       "    }\n",
       "\n",
       "    .dataframe tbody tr th {\n",
       "        vertical-align: top;\n",
       "    }\n",
       "\n",
       "    .dataframe thead th {\n",
       "        text-align: right;\n",
       "    }\n",
       "</style>\n",
       "<table border=\"1\" class=\"dataframe\">\n",
       "  <thead>\n",
       "    <tr style=\"text-align: right;\">\n",
       "      <th></th>\n",
       "      <th>Date</th>\n",
       "      <th>SPX</th>\n",
       "      <th>GLD</th>\n",
       "      <th>USO</th>\n",
       "      <th>SLV</th>\n",
       "      <th>EUR/USD</th>\n",
       "    </tr>\n",
       "  </thead>\n",
       "  <tbody>\n",
       "    <tr>\n",
       "      <th>0</th>\n",
       "      <td>1/2/2008</td>\n",
       "      <td>1447.160034</td>\n",
       "      <td>84.860001</td>\n",
       "      <td>78.470001</td>\n",
       "      <td>15.180</td>\n",
       "      <td>1.471692</td>\n",
       "    </tr>\n",
       "    <tr>\n",
       "      <th>1</th>\n",
       "      <td>1/3/2008</td>\n",
       "      <td>1447.160034</td>\n",
       "      <td>85.570000</td>\n",
       "      <td>78.370003</td>\n",
       "      <td>15.285</td>\n",
       "      <td>1.474491</td>\n",
       "    </tr>\n",
       "    <tr>\n",
       "      <th>2</th>\n",
       "      <td>1/4/2008</td>\n",
       "      <td>1411.630005</td>\n",
       "      <td>85.129997</td>\n",
       "      <td>77.309998</td>\n",
       "      <td>15.167</td>\n",
       "      <td>1.475492</td>\n",
       "    </tr>\n",
       "    <tr>\n",
       "      <th>3</th>\n",
       "      <td>1/7/2008</td>\n",
       "      <td>1416.180054</td>\n",
       "      <td>84.769997</td>\n",
       "      <td>75.500000</td>\n",
       "      <td>15.053</td>\n",
       "      <td>1.468299</td>\n",
       "    </tr>\n",
       "    <tr>\n",
       "      <th>4</th>\n",
       "      <td>1/8/2008</td>\n",
       "      <td>1390.189941</td>\n",
       "      <td>86.779999</td>\n",
       "      <td>76.059998</td>\n",
       "      <td>15.590</td>\n",
       "      <td>1.557099</td>\n",
       "    </tr>\n",
       "  </tbody>\n",
       "</table>\n",
       "</div>"
      ],
      "text/plain": [
       "       Date          SPX        GLD        USO     SLV   EUR/USD\n",
       "0  1/2/2008  1447.160034  84.860001  78.470001  15.180  1.471692\n",
       "1  1/3/2008  1447.160034  85.570000  78.370003  15.285  1.474491\n",
       "2  1/4/2008  1411.630005  85.129997  77.309998  15.167  1.475492\n",
       "3  1/7/2008  1416.180054  84.769997  75.500000  15.053  1.468299\n",
       "4  1/8/2008  1390.189941  86.779999  76.059998  15.590  1.557099"
      ]
     },
     "execution_count": 3,
     "metadata": {},
     "output_type": "execute_result"
    }
   ],
   "source": [
    "dataset.head()"
   ]
  },
  {
   "cell_type": "code",
   "execution_count": 4,
   "id": "ca3f21a3",
   "metadata": {},
   "outputs": [
    {
     "data": {
      "text/plain": [
       "(2290, 6)"
      ]
     },
     "execution_count": 4,
     "metadata": {},
     "output_type": "execute_result"
    }
   ],
   "source": [
    "dataset.shape"
   ]
  },
  {
   "cell_type": "markdown",
   "id": "e14e862c",
   "metadata": {},
   "source": [
    "Dataset contains 2290 rows and 6 columns."
   ]
  },
  {
   "cell_type": "code",
   "execution_count": 5,
   "id": "000bee49",
   "metadata": {},
   "outputs": [
    {
     "data": {
      "text/plain": [
       "Date        object\n",
       "SPX        float64\n",
       "GLD        float64\n",
       "USO        float64\n",
       "SLV        float64\n",
       "EUR/USD    float64\n",
       "dtype: object"
      ]
     },
     "execution_count": 5,
     "metadata": {},
     "output_type": "execute_result"
    }
   ],
   "source": [
    "dataset.dtypes"
   ]
  },
  {
   "cell_type": "markdown",
   "id": "70874df0",
   "metadata": {},
   "source": [
    "Date column is of data type object(date) rest column are of float64(numerical) data type."
   ]
  },
  {
   "cell_type": "code",
   "execution_count": 6,
   "id": "7a0d9d3a",
   "metadata": {},
   "outputs": [
    {
     "data": {
      "text/plain": [
       "Date       0\n",
       "SPX        0\n",
       "GLD        0\n",
       "USO        0\n",
       "SLV        0\n",
       "EUR/USD    0\n",
       "dtype: int64"
      ]
     },
     "execution_count": 6,
     "metadata": {},
     "output_type": "execute_result"
    }
   ],
   "source": [
    "dataset.isna().sum()"
   ]
  },
  {
   "cell_type": "markdown",
   "id": "d3e3c351",
   "metadata": {},
   "source": [
    "There are no Null values in given dataset."
   ]
  },
  {
   "cell_type": "code",
   "execution_count": 7,
   "id": "a23f576c",
   "metadata": {},
   "outputs": [
    {
     "data": {
      "text/html": [
       "<div>\n",
       "<style scoped>\n",
       "    .dataframe tbody tr th:only-of-type {\n",
       "        vertical-align: middle;\n",
       "    }\n",
       "\n",
       "    .dataframe tbody tr th {\n",
       "        vertical-align: top;\n",
       "    }\n",
       "\n",
       "    .dataframe thead th {\n",
       "        text-align: right;\n",
       "    }\n",
       "</style>\n",
       "<table border=\"1\" class=\"dataframe\">\n",
       "  <thead>\n",
       "    <tr style=\"text-align: right;\">\n",
       "      <th></th>\n",
       "      <th>SPX</th>\n",
       "      <th>GLD</th>\n",
       "      <th>USO</th>\n",
       "      <th>SLV</th>\n",
       "      <th>EUR/USD</th>\n",
       "    </tr>\n",
       "  </thead>\n",
       "  <tbody>\n",
       "    <tr>\n",
       "      <th>count</th>\n",
       "      <td>2290.000000</td>\n",
       "      <td>2290.000000</td>\n",
       "      <td>2290.000000</td>\n",
       "      <td>2290.000000</td>\n",
       "      <td>2290.000000</td>\n",
       "    </tr>\n",
       "    <tr>\n",
       "      <th>mean</th>\n",
       "      <td>1654.315776</td>\n",
       "      <td>122.732875</td>\n",
       "      <td>31.842221</td>\n",
       "      <td>20.084997</td>\n",
       "      <td>1.283653</td>\n",
       "    </tr>\n",
       "    <tr>\n",
       "      <th>std</th>\n",
       "      <td>519.111540</td>\n",
       "      <td>23.283346</td>\n",
       "      <td>19.523517</td>\n",
       "      <td>7.092566</td>\n",
       "      <td>0.131547</td>\n",
       "    </tr>\n",
       "    <tr>\n",
       "      <th>min</th>\n",
       "      <td>676.530029</td>\n",
       "      <td>70.000000</td>\n",
       "      <td>7.960000</td>\n",
       "      <td>8.850000</td>\n",
       "      <td>1.039047</td>\n",
       "    </tr>\n",
       "    <tr>\n",
       "      <th>25%</th>\n",
       "      <td>1239.874969</td>\n",
       "      <td>109.725000</td>\n",
       "      <td>14.380000</td>\n",
       "      <td>15.570000</td>\n",
       "      <td>1.171313</td>\n",
       "    </tr>\n",
       "    <tr>\n",
       "      <th>50%</th>\n",
       "      <td>1551.434998</td>\n",
       "      <td>120.580002</td>\n",
       "      <td>33.869999</td>\n",
       "      <td>17.268500</td>\n",
       "      <td>1.303297</td>\n",
       "    </tr>\n",
       "    <tr>\n",
       "      <th>75%</th>\n",
       "      <td>2073.010070</td>\n",
       "      <td>132.840004</td>\n",
       "      <td>37.827501</td>\n",
       "      <td>22.882500</td>\n",
       "      <td>1.369971</td>\n",
       "    </tr>\n",
       "    <tr>\n",
       "      <th>max</th>\n",
       "      <td>2872.870117</td>\n",
       "      <td>184.589996</td>\n",
       "      <td>117.480003</td>\n",
       "      <td>47.259998</td>\n",
       "      <td>1.598798</td>\n",
       "    </tr>\n",
       "  </tbody>\n",
       "</table>\n",
       "</div>"
      ],
      "text/plain": [
       "               SPX          GLD          USO          SLV      EUR/USD\n",
       "count  2290.000000  2290.000000  2290.000000  2290.000000  2290.000000\n",
       "mean   1654.315776   122.732875    31.842221    20.084997     1.283653\n",
       "std     519.111540    23.283346    19.523517     7.092566     0.131547\n",
       "min     676.530029    70.000000     7.960000     8.850000     1.039047\n",
       "25%    1239.874969   109.725000    14.380000    15.570000     1.171313\n",
       "50%    1551.434998   120.580002    33.869999    17.268500     1.303297\n",
       "75%    2073.010070   132.840004    37.827501    22.882500     1.369971\n",
       "max    2872.870117   184.589996   117.480003    47.259998     1.598798"
      ]
     },
     "execution_count": 7,
     "metadata": {},
     "output_type": "execute_result"
    }
   ],
   "source": [
    "dataset.describe()"
   ]
  },
  {
   "cell_type": "markdown",
   "id": "44db4706",
   "metadata": {},
   "source": [
    "We will use **'Correlation'** to find out measure of extent of interdependance between variables.\n",
    "In python pearson's correlation method is default function of corr().\n",
    "\n",
    "Pearson's Correlation: It measures the linear dependance between two variables (X and y variables).\n",
    "\n",
    "Range of resulting coefficient is between -1 to +1.\n",
    "where,\n",
    "1.  1 means Perfect positive linear correlation.\n",
    "2.  0 means No linear correlation as no effect of variables on each other.\n",
    "3. -1 means Perfect Negative correlation."
   ]
  },
  {
   "cell_type": "code",
   "execution_count": 8,
   "id": "a139a237",
   "metadata": {},
   "outputs": [],
   "source": [
    "correlation = dataset.corr()"
   ]
  },
  {
   "cell_type": "code",
   "execution_count": 9,
   "id": "2f94319f",
   "metadata": {},
   "outputs": [
    {
     "data": {
      "text/html": [
       "<div>\n",
       "<style scoped>\n",
       "    .dataframe tbody tr th:only-of-type {\n",
       "        vertical-align: middle;\n",
       "    }\n",
       "\n",
       "    .dataframe tbody tr th {\n",
       "        vertical-align: top;\n",
       "    }\n",
       "\n",
       "    .dataframe thead th {\n",
       "        text-align: right;\n",
       "    }\n",
       "</style>\n",
       "<table border=\"1\" class=\"dataframe\">\n",
       "  <thead>\n",
       "    <tr style=\"text-align: right;\">\n",
       "      <th></th>\n",
       "      <th>SPX</th>\n",
       "      <th>GLD</th>\n",
       "      <th>USO</th>\n",
       "      <th>SLV</th>\n",
       "      <th>EUR/USD</th>\n",
       "    </tr>\n",
       "  </thead>\n",
       "  <tbody>\n",
       "    <tr>\n",
       "      <th>SPX</th>\n",
       "      <td>1.000000</td>\n",
       "      <td>0.049345</td>\n",
       "      <td>-0.591573</td>\n",
       "      <td>-0.274055</td>\n",
       "      <td>-0.672017</td>\n",
       "    </tr>\n",
       "    <tr>\n",
       "      <th>GLD</th>\n",
       "      <td>0.049345</td>\n",
       "      <td>1.000000</td>\n",
       "      <td>-0.186360</td>\n",
       "      <td>0.866632</td>\n",
       "      <td>-0.024375</td>\n",
       "    </tr>\n",
       "    <tr>\n",
       "      <th>USO</th>\n",
       "      <td>-0.591573</td>\n",
       "      <td>-0.186360</td>\n",
       "      <td>1.000000</td>\n",
       "      <td>0.167547</td>\n",
       "      <td>0.829317</td>\n",
       "    </tr>\n",
       "    <tr>\n",
       "      <th>SLV</th>\n",
       "      <td>-0.274055</td>\n",
       "      <td>0.866632</td>\n",
       "      <td>0.167547</td>\n",
       "      <td>1.000000</td>\n",
       "      <td>0.321631</td>\n",
       "    </tr>\n",
       "    <tr>\n",
       "      <th>EUR/USD</th>\n",
       "      <td>-0.672017</td>\n",
       "      <td>-0.024375</td>\n",
       "      <td>0.829317</td>\n",
       "      <td>0.321631</td>\n",
       "      <td>1.000000</td>\n",
       "    </tr>\n",
       "  </tbody>\n",
       "</table>\n",
       "</div>"
      ],
      "text/plain": [
       "              SPX       GLD       USO       SLV   EUR/USD\n",
       "SPX      1.000000  0.049345 -0.591573 -0.274055 -0.672017\n",
       "GLD      0.049345  1.000000 -0.186360  0.866632 -0.024375\n",
       "USO     -0.591573 -0.186360  1.000000  0.167547  0.829317\n",
       "SLV     -0.274055  0.866632  0.167547  1.000000  0.321631\n",
       "EUR/USD -0.672017 -0.024375  0.829317  0.321631  1.000000"
      ]
     },
     "execution_count": 9,
     "metadata": {},
     "output_type": "execute_result"
    }
   ],
   "source": [
    "correlation"
   ]
  },
  {
   "cell_type": "code",
   "execution_count": 10,
   "id": "ce345f6f",
   "metadata": {},
   "outputs": [
    {
     "data": {
      "text/plain": [
       "<AxesSubplot:>"
      ]
     },
     "execution_count": 10,
     "metadata": {},
     "output_type": "execute_result"
    },
    {
     "data": {
      "image/png": "[encoded data removed]",
      "text/plain": [
       "<Figure size 504x504 with 2 Axes>"
      ]
     },
     "metadata": {
      "needs_background": "light"
     },
     "output_type": "display_data"
    }
   ],
   "source": [
    "#heatmap to shows a 2D correlation matrix between two variables.\n",
    "\n",
    "plt.figure(figsize = (7,7))\n",
    "\n",
    "sns.heatmap(correlation, square='True', cbar=True, annot=True, linewidths='0.2', linecolor='black', cmap='Blues')"
   ]
  },
  {
   "cell_type": "markdown",
   "id": "cbe4bdff",
   "metadata": {},
   "source": [
    "Correaltion between Gold (Target variable) and other variables."
   ]
  },
  {
   "cell_type": "code",
   "execution_count": 11,
   "id": "3deff4f7",
   "metadata": {},
   "outputs": [
    {
     "data": {
      "text/plain": [
       "SPX        0.049345\n",
       "GLD        1.000000\n",
       "USO       -0.186360\n",
       "SLV        0.866632\n",
       "EUR/USD   -0.024375\n",
       "Name: GLD, dtype: float64"
      ]
     },
     "execution_count": 11,
     "metadata": {},
     "output_type": "execute_result"
    }
   ],
   "source": [
    "correlation['GLD']"
   ]
  },
  {
   "cell_type": "markdown",
   "id": "23485e47",
   "metadata": {},
   "source": [
    "Distplot: It is important in visualization case having more than one independant variable."
   ]
  },
  {
   "cell_type": "code",
   "execution_count": 12,
   "id": "9f5dd4be",
   "metadata": {},
   "outputs": [
    {
     "name": "stderr",
     "output_type": "stream",
     "text": [
      "C:\\Users\\ACER\\anaconda3\\envs\\tf\\lib\\site-packages\\seaborn\\distributions.py:2619: FutureWarning: `distplot` is a deprecated function and will be removed in a future version. Please adapt your code to use either `displot` (a figure-level function with similar flexibility) or `histplot` (an axes-level function for histograms).\n",
      "  warnings.warn(msg, FutureWarning)\n"
     ]
    },
    {
     "data": {
      "text/plain": [
       "<AxesSubplot:xlabel='GLD', ylabel='Density'>"
      ]
     },
     "execution_count": 12,
     "metadata": {},
     "output_type": "execute_result"
    },
    {
     "data": {
      "image/png": "[encoded data removed]",
      "text/plain": [
       "<Figure size 432x288 with 1 Axes>"
      ]
     },
     "metadata": {
      "needs_background": "light"
     },
     "output_type": "display_data"
    }
   ],
   "source": [
    "sns.distplot(dataset['GLD'],color='b')"
   ]
  },
  {
   "cell_type": "markdown",
   "id": "b885fd8c",
   "metadata": {},
   "source": [
    "**Prepare the dataset for training**"
   ]
  },
  {
   "cell_type": "markdown",
   "id": "b278417b",
   "metadata": {},
   "source": [
    "Data Spliting into X = independent(Features) varibales and y = dependent variables(Label)"
   ]
  },
  {
   "cell_type": "code",
   "execution_count": 13,
   "id": "a67fe6b8",
   "metadata": {},
   "outputs": [],
   "source": [
    "X = dataset.drop(['Date','GLD'],axis=1)\n",
    "y = dataset['GLD']"
   ]
  },
  {
   "cell_type": "code",
   "execution_count": 14,
   "id": "676e8157",
   "metadata": {},
   "outputs": [
    {
     "data": {
      "text/html": [
       "<div>\n",
       "<style scoped>\n",
       "    .dataframe tbody tr th:only-of-type {\n",
       "        vertical-align: middle;\n",
       "    }\n",
       "\n",
       "    .dataframe tbody tr th {\n",
       "        vertical-align: top;\n",
       "    }\n",
       "\n",
       "    .dataframe thead th {\n",
       "        text-align: right;\n",
       "    }\n",
       "</style>\n",
       "<table border=\"1\" class=\"dataframe\">\n",
       "  <thead>\n",
       "    <tr style=\"text-align: right;\">\n",
       "      <th></th>\n",
       "      <th>SPX</th>\n",
       "      <th>USO</th>\n",
       "      <th>SLV</th>\n",
       "      <th>EUR/USD</th>\n",
       "    </tr>\n",
       "  </thead>\n",
       "  <tbody>\n",
       "    <tr>\n",
       "      <th>0</th>\n",
       "      <td>1447.160034</td>\n",
       "      <td>78.470001</td>\n",
       "      <td>15.180</td>\n",
       "      <td>1.471692</td>\n",
       "    </tr>\n",
       "    <tr>\n",
       "      <th>1</th>\n",
       "      <td>1447.160034</td>\n",
       "      <td>78.370003</td>\n",
       "      <td>15.285</td>\n",
       "      <td>1.474491</td>\n",
       "    </tr>\n",
       "    <tr>\n",
       "      <th>2</th>\n",
       "      <td>1411.630005</td>\n",
       "      <td>77.309998</td>\n",
       "      <td>15.167</td>\n",
       "      <td>1.475492</td>\n",
       "    </tr>\n",
       "    <tr>\n",
       "      <th>3</th>\n",
       "      <td>1416.180054</td>\n",
       "      <td>75.500000</td>\n",
       "      <td>15.053</td>\n",
       "      <td>1.468299</td>\n",
       "    </tr>\n",
       "    <tr>\n",
       "      <th>4</th>\n",
       "      <td>1390.189941</td>\n",
       "      <td>76.059998</td>\n",
       "      <td>15.590</td>\n",
       "      <td>1.557099</td>\n",
       "    </tr>\n",
       "  </tbody>\n",
       "</table>\n",
       "</div>"
      ],
      "text/plain": [
       "           SPX        USO     SLV   EUR/USD\n",
       "0  1447.160034  78.470001  15.180  1.471692\n",
       "1  1447.160034  78.370003  15.285  1.474491\n",
       "2  1411.630005  77.309998  15.167  1.475492\n",
       "3  1416.180054  75.500000  15.053  1.468299\n",
       "4  1390.189941  76.059998  15.590  1.557099"
      ]
     },
     "execution_count": 14,
     "metadata": {},
     "output_type": "execute_result"
    }
   ],
   "source": [
    "X.head()"
   ]
  },
  {
   "cell_type": "code",
   "execution_count": 15,
   "id": "8f04637c",
   "metadata": {},
   "outputs": [
    {
     "data": {
      "text/plain": [
       "0    84.860001\n",
       "1    85.570000\n",
       "2    85.129997\n",
       "3    84.769997\n",
       "4    86.779999\n",
       "Name: GLD, dtype: float64"
      ]
     },
     "execution_count": 15,
     "metadata": {},
     "output_type": "execute_result"
    }
   ],
   "source": [
    "y.head()"
   ]
  },
  {
   "cell_type": "code",
   "execution_count": 16,
   "id": "251e04ff",
   "metadata": {},
   "outputs": [],
   "source": [
    "x_train,x_test,y_train,y_test = train_test_split(X,y,test_size=0.2,random_state = 2) #Training data 80% rest for testing purpose"
   ]
  },
  {
   "cell_type": "markdown",
   "id": "0ee86c03",
   "metadata": {},
   "source": [
    "**Use any prediction algorithm based upon the EDA**"
   ]
  },
  {
   "cell_type": "markdown",
   "id": "bab8b787",
   "metadata": {},
   "source": [
    "we will use Random Forest Algorithm for Regression."
   ]
  },
  {
   "cell_type": "code",
   "execution_count": 17,
   "id": "cb9c9a22",
   "metadata": {},
   "outputs": [],
   "source": [
    "rfr = RandomForestRegressor()"
   ]
  },
  {
   "cell_type": "markdown",
   "id": "66f364c8",
   "metadata": {},
   "source": [
    "**Train the model to fit the data**"
   ]
  },
  {
   "cell_type": "code",
   "execution_count": 19,
   "id": "b7e1c0f9",
   "metadata": {},
   "outputs": [
    {
     "data": {
      "text/plain": [
       "RandomForestRegressor()"
      ]
     },
     "execution_count": 19,
     "metadata": {},
     "output_type": "execute_result"
    }
   ],
   "source": [
    "rfr.fit(x_train,y_train)"
   ]
  },
  {
   "cell_type": "markdown",
   "id": "1727aa7c",
   "metadata": {},
   "source": [
    "**Make predictions using the trained model**"
   ]
  },
  {
   "cell_type": "code",
   "execution_count": 20,
   "id": "01e17eef",
   "metadata": {},
   "outputs": [
    {
     "data": {
      "text/plain": [
       "array([168.34569977,  82.02239979, 116.01810033, 127.72150077,\n",
       "       120.69310126, 154.63029737, 149.83539835, 126.22090002,\n",
       "       117.42629877, 125.95740082, 116.7300009 , 172.05250108,\n",
       "       141.86969852, 168.08399825, 115.12869988, 117.88540042,\n",
       "       136.78460327, 169.93020028, 159.028003  , 160.77489961,\n",
       "       155.2360003 , 125.01580011, 175.64279963, 157.03430405,\n",
       "       125.2845004 ,  94.09349947,  76.69300016, 120.48760025,\n",
       "       119.05229946, 167.58160017,  88.2083009 , 125.22039971,\n",
       "        91.22210079, 117.72140023, 120.96649916, 136.20290094,\n",
       "       115.53310124, 115.14370101, 146.62629929, 107.3305011 ,\n",
       "       104.01530221,  87.39689818, 126.52340018, 117.77850003,\n",
       "       152.3462987 , 119.55600014, 108.44789978, 108.21059788,\n",
       "        93.22300073, 127.10359787,  74.76110023, 113.39409939,\n",
       "       121.39010011, 111.26529888, 118.90999887, 120.9090997 ,\n",
       "       159.23070033, 167.8251013 , 147.01899685,  85.80709855,\n",
       "        94.1616003 ,  86.88539879,  90.47420019, 118.99620065,\n",
       "       126.34300068, 127.39250002, 169.27649974, 122.25219916,\n",
       "       117.28199902,  98.41940019, 168.73020074, 143.32569923,\n",
       "       132.14680281, 121.2268023 , 120.93889948, 119.76680074,\n",
       "       114.41090198, 118.44830082, 107.05620086, 127.82620133,\n",
       "       113.85619968, 107.17180004, 116.58900076, 119.61489882,\n",
       "        89.02600095,  88.07859847, 146.69670246, 127.33150037,\n",
       "       113.49510039, 109.90929863, 108.23929904,  77.03719935,\n",
       "       170.63040217, 114.0282992 , 121.62839906, 127.90960164,\n",
       "       154.94369783,  91.72699925, 137.76500206, 158.91040321,\n",
       "       125.00510065, 125.55560057, 130.72290192, 114.84720156,\n",
       "       119.7223997 ,  92.17239978, 110.38319894, 167.87309947,\n",
       "       156.3228993 , 114.27809955, 106.5525012 ,  79.54619956,\n",
       "       113.43450023, 125.83860087, 107.35979909, 119.27580096,\n",
       "       156.01360366, 160.32069864, 120.26010008, 133.69640252,\n",
       "       101.49529968, 117.56929803, 119.3239001 , 112.95210063,\n",
       "       102.78509891, 160.31199772,  99.02420005, 149.01249866,\n",
       "       125.53640074, 169.74659883, 125.65009891, 127.317498  ,\n",
       "       127.30570154, 113.69169925, 113.13840075, 123.61309868,\n",
       "       102.08849884,  89.23760008, 124.49569949, 101.39849955,\n",
       "       107.08459908, 113.55990044, 117.39110054,  99.11319926,\n",
       "       121.90060025, 163.64759922,  87.4300988 , 107.04389978,\n",
       "       117.1695012 , 127.71210166, 124.08930062,  80.56539903,\n",
       "       120.34410052, 157.91709816,  88.06749996, 110.2260998 ,\n",
       "       118.63019916, 172.51139857, 103.00669885, 105.38870056,\n",
       "       122.39760022, 157.99899753,  87.28019846,  93.01440027,\n",
       "       112.96070047, 177.50179935, 114.25739984, 119.31740019,\n",
       "        94.81560126, 125.76400014, 165.90190165, 114.77160113,\n",
       "       116.74240143,  88.10629841, 149.14440056, 120.21019968,\n",
       "        89.47419987, 112.18239994, 117.19959998, 118.69840137,\n",
       "        88.20109961,  94.16799992, 116.69920056, 118.77800155,\n",
       "       120.2056003 , 126.79999845, 121.93719984, 150.10910003,\n",
       "       165.03220091, 118.58439939, 120.17220126, 150.52060027,\n",
       "       118.16519902, 172.72869894, 105.65329897, 104.87860154,\n",
       "       149.72510065, 113.69050038, 124.7720011 , 147.76119871,\n",
       "       119.62240086, 115.44480043, 112.3398999 , 113.50720182,\n",
       "       141.28060098, 117.93979761, 102.82430038, 115.8503012 ,\n",
       "       103.55630178,  98.61760035, 117.33470056,  90.46040025,\n",
       "        91.59910045, 153.47139868, 102.76949984, 154.37590082,\n",
       "       114.28360136, 138.848201  ,  90.06039828, 115.48009927,\n",
       "       114.35529964, 122.70409988, 121.87149987, 165.30690166,\n",
       "        92.92969951, 135.39000156, 121.41529919, 120.73490091,\n",
       "       104.88310039, 141.65160316, 121.58649919, 116.6280005 ,\n",
       "       113.06260118, 127.06909773, 122.49639976, 125.78069952,\n",
       "       121.30560019,  86.98729911, 132.59250167, 144.45530165,\n",
       "        92.73309953, 157.71920006, 158.20620184, 126.10539914,\n",
       "       165.39839979, 108.73449958, 110.43580071, 103.72379835,\n",
       "        94.4156005 , 127.9314028 , 106.78820112, 161.23980034,\n",
       "       121.87360017, 131.980201  , 130.76660174, 159.96749997,\n",
       "        90.15459832, 175.57410242, 127.99560053, 126.86319886,\n",
       "        86.42289922, 124.44459927, 150.3101971 ,  89.62340022,\n",
       "       107.15609976, 108.98839978,  84.43799908, 136.11599952,\n",
       "       154.91440188, 138.44210313,  74.19270028, 152.13070149,\n",
       "       126.09500012, 126.71380014, 127.53679922, 108.42779926,\n",
       "       156.20769968, 114.50020168, 116.9935016 , 125.1251992 ,\n",
       "       154.09480157, 121.43249976, 156.37649932,  92.87700068,\n",
       "       125.56490132, 125.95410042,  88.00000071,  92.21369904,\n",
       "       126.27799996, 128.33060299, 113.32540092, 117.74299747,\n",
       "       120.88310012, 127.00459826, 119.38250126, 136.39409996,\n",
       "        94.0323996 , 119.8378005 , 113.16270101,  94.40549948,\n",
       "       108.74609967,  87.97599926, 108.90139954,  89.70309966,\n",
       "        92.40140012, 131.52280304, 162.19800054,  89.33930013,\n",
       "       119.59180094, 133.33920185, 124.01480012, 128.56350197,\n",
       "       101.9141985 ,  89.08359889, 131.34220059, 119.85060022,\n",
       "       108.52120008, 169.48360022, 115.08790018,  86.71789897,\n",
       "       118.77270062,  91.06179965, 161.91010069, 116.62980052,\n",
       "       121.67799946, 160.36779739, 120.25229932, 113.02249932,\n",
       "       108.45549874, 126.64039997,  76.25400015, 102.97419986,\n",
       "       127.7289023 , 122.06659904,  92.60030008, 132.19520047,\n",
       "       118.34700147, 116.35029987, 154.77480208, 159.07160115,\n",
       "       110.12149926, 155.63489833, 119.16100097, 160.54160104,\n",
       "       118.60550004, 158.73079978, 115.13369923, 116.54320033,\n",
       "       148.82029907, 114.73600084, 125.78979838, 165.66599945,\n",
       "       117.66389989, 124.9544994 , 153.1934035 , 153.39370268,\n",
       "       132.09700132, 114.78120023, 121.33580199, 125.14310053,\n",
       "        89.75020054, 123.16989999, 155.12670196, 111.60000045,\n",
       "       106.92699995, 162.07650044, 118.38530011, 165.71839963,\n",
       "       134.02930133, 115.04139968, 153.04959959, 168.70510056,\n",
       "       114.98410032, 113.95030112, 159.10609914,  85.26439861,\n",
       "       127.08230072, 127.91840099, 129.03430048, 124.22060072,\n",
       "       123.86520069,  90.68150074, 153.11470015,  97.13339993,\n",
       "       138.33549979,  89.12709924, 107.15409993, 115.05300015,\n",
       "       112.61000101, 124.45669952,  91.43749883, 125.48420155,\n",
       "       162.11529857, 119.80999885, 165.28560076, 126.75649854,\n",
       "       112.42739992, 127.53259948,  95.05529881,  90.91179984,\n",
       "       103.18569882, 120.88779985,  83.00239932, 126.52370029,\n",
       "       159.72580438, 117.35690103, 118.40069984, 120.08949987,\n",
       "       122.71009975, 120.10340126, 121.56609972, 118.37660058,\n",
       "       106.85400044, 148.31759985, 126.25599855, 115.81290106,\n",
       "        73.74570026, 127.84740157, 154.05150079, 122.59610018,\n",
       "       125.53980085,  88.93330012, 103.02259844, 124.26320037,\n",
       "       120.31499991,  73.27440094, 151.61259949, 121.36360044,\n",
       "       104.53990013,  86.60329787, 115.01099926, 172.27099856,\n",
       "       119.78960022, 159.50979853, 113.22609946, 121.57570024,\n",
       "       118.55320129,  96.06169986, 118.65410016, 125.93200012,\n",
       "       118.47039949,  95.68940018, 154.34890232, 122.16209997,\n",
       "       147.6020991 , 159.06050341, 113.90270008, 122.54719942,\n",
       "       150.49899859, 126.94270015, 165.62060096, 135.69710028,\n",
       "       119.83890009, 167.97519888, 108.34689889, 121.71619844,\n",
       "       139.15160129, 106.63259898])"
      ]
     },
     "execution_count": 20,
     "metadata": {},
     "output_type": "execute_result"
    }
   ],
   "source": [
    "y_pred = rfr.predict(x_test)\n",
    "\n",
    "y_pred"
   ]
  },
  {
   "cell_type": "markdown",
   "id": "ed175ad5",
   "metadata": {},
   "source": [
    "R-Squared or R^2:\n",
    "1. it is also called as coefficient of Determination.\n",
    "2. it determines how close the data is to be fitted line.\n",
    "3. it is the percentage of variation of target variable(y), that is explained by linear model. "
   ]
  },
  {
   "cell_type": "code",
   "execution_count": 21,
   "id": "2afa1b59",
   "metadata": {},
   "outputs": [
    {
     "data": {
      "text/plain": [
       "0.989587640126886"
      ]
     },
     "execution_count": 21,
     "metadata": {},
     "output_type": "execute_result"
    }
   ],
   "source": [
    "from sklearn import metrics\n",
    "\n",
    "metrics.r2_score(y_test,y_pred)"
   ]
  },
  {
   "cell_type": "markdown",
   "id": "469eaaf6",
   "metadata": {},
   "source": [
    "It is clear that error is less and model is working good."
   ]
  },
  {
   "cell_type": "code",
   "execution_count": 22,
   "id": "e0016aa4",
   "metadata": {},
   "outputs": [
    {
     "name": "stdout",
     "output_type": "stream",
     "text": [
      "we have Training data with 99.85% accuracy.\n"
     ]
    }
   ],
   "source": [
    "accuracy = rfr.score(x_train,y_train)\n",
    "\n",
    "print(f\"we have Training data with {(accuracy * 100).round(2)}% accuracy.\")"
   ]
  },
  {
   "cell_type": "code",
   "execution_count": 23,
   "id": "0613fd9f",
   "metadata": {},
   "outputs": [
    {
     "name": "stdout",
     "output_type": "stream",
     "text": [
      "we have Testing data with 98.96% accuracy.\n"
     ]
    }
   ],
   "source": [
    "accuracy = rfr.score(x_test,y_test)\n",
    "\n",
    "print(f\"we have Testing data with {(accuracy * 100).round(2)}% accuracy.\")"
   ]
  },
  {
   "cell_type": "markdown",
   "id": "ff5f6f5a",
   "metadata": {},
   "source": [
    "**Visualising the Accuracy**"
   ]
  },
  {
   "cell_type": "code",
   "execution_count": 30,
   "id": "3b3f4f0b",
   "metadata": {},
   "outputs": [
    {
     "data": {
      "image/png": "[encoded data removed]",
      "text/plain": [
       "<Figure size 432x288 with 1 Axes>"
      ]
     },
     "metadata": {
      "needs_background": "light"
     },
     "output_type": "display_data"
    }
   ],
   "source": [
    "plt.plot(y_test,color=\"Blue\",label=\"Original Price\")\n",
    "\n",
    "plt.plot(y_pred,color=\"Red\",label=\"Predicted Price\")\n",
    "\n",
    "plt.title(\"Actual val. Vs Predicted Val.\")\n",
    "\n",
    "plt.xlabel('Number of observations')\n",
    "\n",
    "plt.ylabel('Gold Prices')\n",
    "\n",
    "plt.grid(4.5)\n",
    "plt.legend()\n",
    "plt.show()"
   ]
  },
  {
   "cell_type": "code",
   "execution_count": null,
   "id": "19499016",
   "metadata": {},
   "outputs": [],
   "source": []
  }
 ],
 "metadata": {
  "kernelspec": {
   "display_name": "Python 3 (ipykernel)",
   "language": "python",
   "name": "python3"
  },
  "language_info": {
   "codemirror_mode": {
    "name": "ipython",
    "version": 3
   },
   "file_extension": ".py",
   "mimetype": "text/x-python",
   "name": "python",
   "nbconvert_exporter": "python",
   "pygments_lexer": "ipython3",
   "version": "3.9.7"
  }
 },
 "nbformat": 4,
 "nbformat_minor": 5
}
